{
 "cells": [
  {
   "cell_type": "markdown",
   "metadata": {},
   "source": [
    "# Visual analysis of table contents"
   ]
  },
  {
   "cell_type": "code",
   "execution_count": null,
   "metadata": {},
   "outputs": [],
   "source": [
    "# Sort out dependencies to external and custom libraries\n",
    "import os\n",
    "import pandas as pd\n",
    "import functions as fn\n",
    "from AppData import *"
   ]
  },
  {
   "cell_type": "markdown",
   "metadata": {},
   "source": [
    "Set some global variables here to keep the code tidy."
   ]
  },
  {
   "cell_type": "code",
   "execution_count": null,
   "metadata": {},
   "outputs": [],
   "source": [
    "xlsFile = \"../data/Women's Network survey.xlsx\"\n",
    "outputPath = \"../data/figures_jupyter\"\n",
    "\n",
    "if not os.path.exists(outputPath):\n",
    "    os.makedirs(outputPath)\n",
    "    print('Folder created!')"
   ]
  },
  {
   "cell_type": "markdown",
   "metadata": {},
   "source": [
    "Define a function that gets everything that's needed to generate the graphs."
   ]
  },
  {
   "cell_type": "code",
   "execution_count": null,
   "metadata": {},
   "outputs": [],
   "source": [
    "def generate_grpahs(figKind, columns, columnIDs, data, figFilename, txtFile, stopwords_custom):\n",
    "    key = list(columnIDs.keys())[0]\n",
    "    \n",
    "    if figKind == PIECHART:\n",
    "        # Do the pie chart\n",
    "        fn.createPieChart(columns[key], data, figFilename, display=True)\n",
    "    elif figKind == WORDCLOUD:\n",
    "        # Do the wordcloud\n",
    "        fn.createWordCloud(columns[key], data, figFilename, max_words=200, ignore=stopwords_custom, display=True)    \n",
    "        if len(txtFile) > 0:\n",
    "            fn.dumpToText(txtFile, columns[key], data)\n",
    "    elif figKind == BARCHART:\n",
    "        # Do the bar chart\n",
    "        fn.createBarChart(columns[key], data, figFilename, txtFile, display=True)\n",
    "    elif figKind == HEATMAP:\n",
    "        # Do the heatmap\n",
    "        colList = [columns[i] for i in columnIDs]\n",
    "        fn.createHeatmap(colList, data, figFilename, txtFile, display=True)\n",
    "    else: \n",
    "        print('\\n ** Not yet implemented! **')\n",
    "        print('WARNING: No figure is produced!')\n",
    "        "
   ]
  },
  {
   "cell_type": "markdown",
   "metadata": {},
   "source": [
    "### Extract data"
   ]
  },
  {
   "cell_type": "code",
   "execution_count": null,
   "metadata": {},
   "outputs": [],
   "source": [
    "xlsContents = pd.read_excel(xlsFile)\n",
    "dfColumns = xlsContents.columns"
   ]
  },
  {
   "cell_type": "markdown",
   "metadata": {},
   "source": [
    "Review the contents."
   ]
  },
  {
   "cell_type": "code",
   "execution_count": null,
   "metadata": {},
   "outputs": [],
   "source": [
    "xlsContents.head()"
   ]
  },
  {
   "cell_type": "code",
   "execution_count": null,
   "metadata": {},
   "outputs": [],
   "source": [
    "for col in zip(range(len(dfColumns)), dfColumns):\n",
    "    print(f'{col[0]} :: {col[1]}')"
   ]
  },
  {
   "cell_type": "markdown",
   "metadata": {},
   "source": [
    "Confirm that what is already provided is sensible/valid."
   ]
  },
  {
   "cell_type": "code",
   "execution_count": null,
   "metadata": {},
   "outputs": [],
   "source": [
    "# TODO"
   ]
  },
  {
   "cell_type": "markdown",
   "metadata": {},
   "source": [
    "## Questions"
   ]
  },
  {
   "cell_type": "markdown",
   "metadata": {},
   "source": [
    "### Question 1"
   ]
  },
  {
   "cell_type": "code",
   "execution_count": null,
   "metadata": {},
   "outputs": [],
   "source": [
    "figureKind = PIECHART\n",
    "outFileName = 'question_1'\n",
    "columnIDs = {5: ''}\n",
    "supportFileName = ''\n",
    "stopwords_custom = []\n",
    "\n",
    "figureFilename = os.path.join(outputPath, outFileName + '.png')\n",
    "supportFileName = os.path.join(outputPath, supportFileName)\n",
    "\n",
    "generate_grpahs(figureKind, dfColumns, columnIDs, xlsContents, \n",
    "                figureFilename, supportFileName, stopwords_custom)"
   ]
  },
  {
   "cell_type": "code",
   "execution_count": null,
   "metadata": {},
   "outputs": [],
   "source": []
  },
  {
   "cell_type": "markdown",
   "metadata": {},
   "source": [
    "### Question 2"
   ]
  },
  {
   "cell_type": "code",
   "execution_count": null,
   "metadata": {},
   "outputs": [],
   "source": [
    "figureKind = PIECHART\n",
    "outFileName = 'question_2'\n",
    "columnIDs = {6: ''}\n",
    "supportFileName = ''\n",
    "stopwords_custom = []\n",
    "\n",
    "figureFilename = os.path.join(outputPath, outFileName + '.png')\n",
    "supportFileName = os.path.join(outputPath, supportFileName)\n",
    "\n",
    "generate_grpahs(figureKind, dfColumns, columnIDs, xlsContents, \n",
    "                figureFilename, supportFileName, stopwords_custom)"
   ]
  },
  {
   "cell_type": "code",
   "execution_count": null,
   "metadata": {},
   "outputs": [],
   "source": []
  },
  {
   "cell_type": "markdown",
   "metadata": {},
   "source": [
    "### Question 3"
   ]
  },
  {
   "cell_type": "code",
   "execution_count": null,
   "metadata": {},
   "outputs": [],
   "source": [
    "figureKind = PIECHART\n",
    "outFileName = 'question_3'\n",
    "columnIDs = {7: ''}\n",
    "supportFileName = ''\n",
    "stopwords_custom = []\n",
    "\n",
    "figureFilename = os.path.join(outputPath, outFileName + '.png')\n",
    "supportFileName = os.path.join(outputPath, supportFileName)\n",
    "\n",
    "generate_grpahs(figureKind, dfColumns, columnIDs, xlsContents, \n",
    "                figureFilename, supportFileName, stopwords_custom)"
   ]
  },
  {
   "cell_type": "code",
   "execution_count": null,
   "metadata": {},
   "outputs": [],
   "source": []
  },
  {
   "cell_type": "markdown",
   "metadata": {},
   "source": [
    "### Question 4"
   ]
  },
  {
   "cell_type": "code",
   "execution_count": null,
   "metadata": {},
   "outputs": [],
   "source": [
    "figureKind = PIECHART\n",
    "outFileName = 'question_4'\n",
    "columnIDs = {8: ''}\n",
    "supportFileName = ''\n",
    "stopwords_custom = []\n",
    "\n",
    "figureFilename = os.path.join(outputPath, outFileName + '.png')\n",
    "supportFileName = os.path.join(outputPath, supportFileName)\n",
    "\n",
    "generate_grpahs(figureKind, dfColumns, columnIDs, xlsContents, \n",
    "                figureFilename, supportFileName, stopwords_custom)"
   ]
  },
  {
   "cell_type": "code",
   "execution_count": null,
   "metadata": {},
   "outputs": [],
   "source": []
  },
  {
   "cell_type": "markdown",
   "metadata": {},
   "source": [
    "### Question 5"
   ]
  },
  {
   "cell_type": "code",
   "execution_count": null,
   "metadata": {},
   "outputs": [],
   "source": [
    "figureKind = PIECHART\n",
    "outFileName = 'question_5'\n",
    "columnIDs = {9: ''}\n",
    "supportFileName = ''\n",
    "stopwords_custom = []\n",
    "\n",
    "figureFilename = os.path.join(outputPath, outFileName + '.png')\n",
    "supportFileName = os.path.join(outputPath, supportFileName)\n",
    "\n",
    "generate_grpahs(figureKind, dfColumns, columnIDs, xlsContents, \n",
    "                figureFilename, supportFileName, stopwords_custom)"
   ]
  },
  {
   "cell_type": "code",
   "execution_count": null,
   "metadata": {},
   "outputs": [],
   "source": []
  },
  {
   "cell_type": "markdown",
   "metadata": {},
   "source": [
    "### Question 6"
   ]
  },
  {
   "cell_type": "code",
   "execution_count": null,
   "metadata": {},
   "outputs": [],
   "source": [
    "figureKind = BARCHART\n",
    "outFileName = 'question_6'\n",
    "columnIDs = {10: ''}\n",
    "supportFileName = 'question_6_sup'\n",
    "stopwords_custom = []\n",
    "\n",
    "figureFilename = os.path.join(outputPath, outFileName + '.png')\n",
    "supportFileName = os.path.join(outputPath, supportFileName)\n",
    "\n",
    "generate_grpahs(figureKind, dfColumns, columnIDs, xlsContents, \n",
    "                figureFilename, supportFileName, stopwords_custom)"
   ]
  },
  {
   "cell_type": "code",
   "execution_count": null,
   "metadata": {},
   "outputs": [],
   "source": []
  },
  {
   "cell_type": "markdown",
   "metadata": {},
   "source": [
    "### Question 7"
   ]
  },
  {
   "cell_type": "code",
   "execution_count": null,
   "metadata": {},
   "outputs": [],
   "source": [
    "figureKind = BARCHART\n",
    "outFileName = 'question_7'\n",
    "columnIDs = {11: ''}\n",
    "supportFileName = 'question_7_sup'\n",
    "stopwords_custom = []\n",
    "\n",
    "figureFilename = os.path.join(outputPath, outFileName + '.png')\n",
    "supportFileName = os.path.join(outputPath, supportFileName)\n",
    "\n",
    "generate_grpahs(figureKind, dfColumns, columnIDs, xlsContents, \n",
    "                figureFilename, supportFileName, stopwords_custom)"
   ]
  },
  {
   "cell_type": "code",
   "execution_count": null,
   "metadata": {},
   "outputs": [],
   "source": []
  },
  {
   "cell_type": "markdown",
   "metadata": {},
   "source": [
    "### Question 8"
   ]
  },
  {
   "cell_type": "code",
   "execution_count": null,
   "metadata": {},
   "outputs": [],
   "source": []
  },
  {
   "cell_type": "code",
   "execution_count": null,
   "metadata": {},
   "outputs": [],
   "source": []
  },
  {
   "cell_type": "markdown",
   "metadata": {},
   "source": [
    "### Question 9"
   ]
  },
  {
   "cell_type": "code",
   "execution_count": null,
   "metadata": {},
   "outputs": [],
   "source": []
  },
  {
   "cell_type": "code",
   "execution_count": null,
   "metadata": {},
   "outputs": [],
   "source": []
  },
  {
   "cell_type": "markdown",
   "metadata": {},
   "source": [
    "### Question 10"
   ]
  },
  {
   "cell_type": "code",
   "execution_count": null,
   "metadata": {},
   "outputs": [],
   "source": []
  },
  {
   "cell_type": "code",
   "execution_count": null,
   "metadata": {},
   "outputs": [],
   "source": []
  },
  {
   "cell_type": "markdown",
   "metadata": {},
   "source": [
    "### Question 11"
   ]
  },
  {
   "cell_type": "code",
   "execution_count": null,
   "metadata": {},
   "outputs": [],
   "source": []
  },
  {
   "cell_type": "code",
   "execution_count": null,
   "metadata": {},
   "outputs": [],
   "source": []
  },
  {
   "cell_type": "markdown",
   "metadata": {},
   "source": [
    "### Question 12"
   ]
  },
  {
   "cell_type": "code",
   "execution_count": null,
   "metadata": {},
   "outputs": [],
   "source": []
  },
  {
   "cell_type": "code",
   "execution_count": null,
   "metadata": {},
   "outputs": [],
   "source": []
  },
  {
   "cell_type": "markdown",
   "metadata": {},
   "source": [
    "### Question 13"
   ]
  },
  {
   "cell_type": "code",
   "execution_count": null,
   "metadata": {},
   "outputs": [],
   "source": []
  },
  {
   "cell_type": "code",
   "execution_count": null,
   "metadata": {},
   "outputs": [],
   "source": []
  },
  {
   "cell_type": "markdown",
   "metadata": {},
   "source": [
    "### Question 14"
   ]
  },
  {
   "cell_type": "code",
   "execution_count": null,
   "metadata": {},
   "outputs": [],
   "source": []
  },
  {
   "cell_type": "code",
   "execution_count": null,
   "metadata": {},
   "outputs": [],
   "source": []
  },
  {
   "cell_type": "markdown",
   "metadata": {},
   "source": [
    "### Question 15"
   ]
  },
  {
   "cell_type": "code",
   "execution_count": null,
   "metadata": {},
   "outputs": [],
   "source": []
  },
  {
   "cell_type": "code",
   "execution_count": null,
   "metadata": {},
   "outputs": [],
   "source": []
  },
  {
   "cell_type": "markdown",
   "metadata": {},
   "source": [
    "### Question 16"
   ]
  },
  {
   "cell_type": "code",
   "execution_count": null,
   "metadata": {},
   "outputs": [],
   "source": []
  },
  {
   "cell_type": "code",
   "execution_count": null,
   "metadata": {},
   "outputs": [],
   "source": []
  },
  {
   "cell_type": "markdown",
   "metadata": {},
   "source": [
    "### Question 17"
   ]
  },
  {
   "cell_type": "code",
   "execution_count": null,
   "metadata": {},
   "outputs": [],
   "source": []
  },
  {
   "cell_type": "code",
   "execution_count": null,
   "metadata": {},
   "outputs": [],
   "source": []
  },
  {
   "cell_type": "code",
   "execution_count": null,
   "metadata": {},
   "outputs": [],
   "source": []
  }
 ],
 "metadata": {
  "kernelspec": {
   "display_name": "fancyfigures",
   "language": "python",
   "name": "fancyfigures"
  },
  "language_info": {
   "codemirror_mode": {
    "name": "ipython",
    "version": 3
   },
   "file_extension": ".py",
   "mimetype": "text/x-python",
   "name": "python",
   "nbconvert_exporter": "python",
   "pygments_lexer": "ipython3",
   "version": "3.7.7"
  }
 },
 "nbformat": 4,
 "nbformat_minor": 4
}
